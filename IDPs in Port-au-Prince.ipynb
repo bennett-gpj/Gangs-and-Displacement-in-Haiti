{
 "cells": [
  {
   "cell_type": "markdown",
   "id": "43af1e94",
   "metadata": {},
   "source": [
    "# Gangs and IDPs in Port-au-Prince, Haiti"
   ]
  },
  {
   "cell_type": "markdown",
   "id": "ac007aeb",
   "metadata": {},
   "source": [
    "Nearly one-third of Port-au-Prince, Haiti's capital, is plagued by criminal activity and violence caused by an estimated 95 armed gangs, according to the United Nations Office for the Coordination of Humanitarian Affairs. Since June 1, 2021, the city has witnessed a sharp increase in deadly clashes between these rival gangs, fueled by shifts in gang alliances and ongoing territorial disputes. This escalation of violence has led to widespread insecurity and has forced over 120,000 people to flee their homes into makeshift shelters and safer communities, leading to devastating consequences for much of the city.\n",
    "\n",
    "The data analyzed below comes from the International Organization for Migration's Displacement Tracking Matrix, an assesment of the mass displacement caused by armed gangs in the Haitian capital of Port-au-Prince. That data, collected in February and March 2023, can be found here (https://data.humdata.org/dataset/haiti-displacement-idps-baseline-assessment-iom-dtm/resource/00acbb24-2a1c-4b14-9a2d-7217f6c37d81).\n",
    "\n",
    "I then overlaid that data with a map of gangland territories compiled by an open source researcher, which is just used as an approximate understanding of gang control at one point in early 2023, found here (https://www.google.com/maps/d/u/0/viewer?mid=1rQHDoleAxTW0ya2cN5Jm8oBfyLOhqyk&shorturl=1&ll=18.56070167568382%2C-72.31479892417353&z=12).\n",
    "\n",
    "For more info about this project, view the Github page.\n",
    "_____URL_____"
   ]
  },
  {
   "cell_type": "code",
   "execution_count": 1,
   "id": "7125be26",
   "metadata": {},
   "outputs": [
    {
     "name": "stdout",
     "output_type": "stream",
     "text": [
      "Requirement already satisfied: openpyxl in /Users/bennetthanson/.pyenv/versions/3.10.11/lib/python3.10/site-packages (3.1.2)\n",
      "Requirement already satisfied: et-xmlfile in /Users/bennetthanson/.pyenv/versions/3.10.11/lib/python3.10/site-packages (from openpyxl) (1.1.0)\n",
      "\n",
      "\u001b[1m[\u001b[0m\u001b[34;49mnotice\u001b[0m\u001b[1;39;49m]\u001b[0m\u001b[39;49m A new release of pip is available: \u001b[0m\u001b[31;49m23.0.1\u001b[0m\u001b[39;49m -> \u001b[0m\u001b[32;49m23.1.2\u001b[0m\n",
      "\u001b[1m[\u001b[0m\u001b[34;49mnotice\u001b[0m\u001b[1;39;49m]\u001b[0m\u001b[39;49m To update, run: \u001b[0m\u001b[32;49mpip install --upgrade pip\u001b[0m\n"
     ]
    }
   ],
   "source": [
    "import requests\n",
    "import pandas as pd\n",
    "import matplotlib.pyplot as plt\n",
    "!pip install openpyxl"
   ]
  },
  {
   "cell_type": "code",
   "execution_count": 2,
   "id": "7bf9fc1e",
   "metadata": {},
   "outputs": [],
   "source": [
    "pd.read_csv(\"HT_final_trim.csv\")\n",
    "df = pd.read_csv(\"HT_final_trim.csv\")"
   ]
  },
  {
   "cell_type": "code",
   "execution_count": 3,
   "id": "b06d2a5b",
   "metadata": {},
   "outputs": [
    {
     "data": {
      "text/html": [
       "<div>\n",
       "<style scoped>\n",
       "    .dataframe tbody tr th:only-of-type {\n",
       "        vertical-align: middle;\n",
       "    }\n",
       "\n",
       "    .dataframe tbody tr th {\n",
       "        vertical-align: top;\n",
       "    }\n",
       "\n",
       "    .dataframe thead th {\n",
       "        text-align: right;\n",
       "    }\n",
       "</style>\n",
       "<table border=\"1\" class=\"dataframe\">\n",
       "  <thead>\n",
       "    <tr style=\"text-align: right;\">\n",
       "      <th></th>\n",
       "      <th>Evaluation date</th>\n",
       "      <th>Type of place evaluated</th>\n",
       "      <th>Commune name</th>\n",
       "      <th>Municipal section name</th>\n",
       "      <th>Neighborhood name</th>\n",
       "      <th>Name of the site</th>\n",
       "      <th>Spontaneous site type</th>\n",
       "      <th>Internally displaced households</th>\n",
       "      <th>IDPs counted</th>\n",
       "      <th>Site size in meters</th>\n",
       "      <th>...</th>\n",
       "      <th>What are the 3 main\\nsecurity concerns in the\\nsite?</th>\n",
       "      <th>Do boys attend school?</th>\n",
       "      <th>Do girls attend school?</th>\n",
       "      <th>Health problems</th>\n",
       "      <th>proportion vaccine cholera</th>\n",
       "      <th>Why not cholera vaccine</th>\n",
       "      <th>How much Death Cholera</th>\n",
       "      <th>Food source</th>\n",
       "      <th>Access to fertile land</th>\n",
       "      <th>Proportion of persons carrying out a subsistence activity</th>\n",
       "    </tr>\n",
       "  </thead>\n",
       "  <tbody>\n",
       "    <tr>\n",
       "      <th>0</th>\n",
       "      <td>2023-02-20</td>\n",
       "      <td>Site</td>\n",
       "      <td>Port-au-Prince</td>\n",
       "      <td>1re Section Turgeau</td>\n",
       "      <td>Delmas 2 - Saint-Martin - Tokyo</td>\n",
       "      <td>Institut Monfort</td>\n",
       "      <td>School</td>\n",
       "      <td>2096</td>\n",
       "      <td>10480</td>\n",
       "      <td>Over 150 square meters</td>\n",
       "      <td>...</td>\n",
       "      <td>Another gang gang fuss</td>\n",
       "      <td>some</td>\n",
       "      <td>some</td>\n",
       "      <td>infection_plaie diarrhee malnutrition</td>\n",
       "      <td>A few people (about 25%)</td>\n",
       "      <td>Pas_vaccin fear</td>\n",
       "      <td>10.0</td>\n",
       "      <td>Purchase_ assault_hum</td>\n",
       "      <td>No access to cultivable land</td>\n",
       "      <td>some</td>\n",
       "    </tr>\n",
       "    <tr>\n",
       "      <th>1</th>\n",
       "      <td>2023-02-15</td>\n",
       "      <td>Site</td>\n",
       "      <td>Delmas</td>\n",
       "      <td>1re Section St Martin</td>\n",
       "      <td>2ème Cite Saint Martin</td>\n",
       "      <td>Camps zamor</td>\n",
       "      <td>Site installed on an air space</td>\n",
       "      <td>2107</td>\n",
       "      <td>6795</td>\n",
       "      <td>Over 150 square meters</td>\n",
       "      <td>...</td>\n",
       "      <td>Attack GA, G Fight gang gang police</td>\n",
       "      <td>some</td>\n",
       "      <td>some</td>\n",
       "      <td>Illness_peau cholera diarrhee</td>\n",
       "      <td>The majority of people (around 75%)</td>\n",
       "      <td>other afraid</td>\n",
       "      <td>6.0</td>\n",
       "      <td>Purchase_Marche Production_Subsistance</td>\n",
       "      <td>In any case, there is no cultivable land avail...</td>\n",
       "      <td>some</td>\n",
       "    </tr>\n",
       "    <tr>\n",
       "      <th>2</th>\n",
       "      <td>2023-03-07</td>\n",
       "      <td>Host community</td>\n",
       "      <td>Port-au-Prince</td>\n",
       "      <td>1re Section Turgeau</td>\n",
       "      <td>Village du Bicentenaire</td>\n",
       "      <td>Not applicable to host communities</td>\n",
       "      <td>Not applicable to host communities</td>\n",
       "      <td>980</td>\n",
       "      <td>4900</td>\n",
       "      <td>Not applicable to host communities</td>\n",
       "      <td>...</td>\n",
       "      <td>Attack GA, G Fight gang gang police</td>\n",
       "      <td>half</td>\n",
       "      <td>half</td>\n",
       "      <td>diarrhea coughing</td>\n",
       "      <td>About half of the people</td>\n",
       "      <td>fear</td>\n",
       "      <td>NaN</td>\n",
       "      <td>Borrow purchase_marche</td>\n",
       "      <td>In any case, there is no cultivable land avail...</td>\n",
       "      <td>some</td>\n",
       "    </tr>\n",
       "    <tr>\n",
       "      <th>3</th>\n",
       "      <td>2023-02-15</td>\n",
       "      <td>Host community</td>\n",
       "      <td>Port-au-Prince</td>\n",
       "      <td>1re Section Turgeau</td>\n",
       "      <td>La Grotte</td>\n",
       "      <td>Not applicable to host communities</td>\n",
       "      <td>Not applicable to host communities</td>\n",
       "      <td>800</td>\n",
       "      <td>4800</td>\n",
       "      <td>Not applicable to host communities</td>\n",
       "      <td>...</td>\n",
       "      <td>other</td>\n",
       "      <td>half</td>\n",
       "      <td>majority</td>\n",
       "      <td>diarrhee disease_peau fever</td>\n",
       "      <td>Nobody</td>\n",
       "      <td>no_vaccin</td>\n",
       "      <td>NaN</td>\n",
       "      <td>Purchase_ assault_hum</td>\n",
       "      <td>In any case, there is no cultivable land avail...</td>\n",
       "      <td>some</td>\n",
       "    </tr>\n",
       "    <tr>\n",
       "      <th>4</th>\n",
       "      <td>2023-03-09</td>\n",
       "      <td>Host community</td>\n",
       "      <td>Port-au-Prince</td>\n",
       "      <td>2e Section Morne l'Hopital</td>\n",
       "      <td>Beauboeuf</td>\n",
       "      <td>Not applicable to host communities</td>\n",
       "      <td>Not applicable to host communities</td>\n",
       "      <td>960</td>\n",
       "      <td>4800</td>\n",
       "      <td>Not applicable to host communities</td>\n",
       "      <td>...</td>\n",
       "      <td>Ga attack, g gang font recruitment child gang</td>\n",
       "      <td>some</td>\n",
       "      <td>some</td>\n",
       "      <td>infection_plaie diarrhee malnutrition</td>\n",
       "      <td>About half of the people</td>\n",
       "      <td>fear</td>\n",
       "      <td>10.0</td>\n",
       "      <td>Borrow purchase_marche</td>\n",
       "      <td>No access to cultivable land</td>\n",
       "      <td>some</td>\n",
       "    </tr>\n",
       "  </tbody>\n",
       "</table>\n",
       "<p>5 rows × 50 columns</p>\n",
       "</div>"
      ],
      "text/plain": [
       "  Evaluation date Type of place evaluated    Commune name  \\\n",
       "0      2023-02-20                    Site  Port-au-Prince   \n",
       "1      2023-02-15                    Site          Delmas   \n",
       "2      2023-03-07          Host community  Port-au-Prince   \n",
       "3      2023-02-15          Host community  Port-au-Prince   \n",
       "4      2023-03-09          Host community  Port-au-Prince   \n",
       "\n",
       "       Municipal section name                Neighborhood name  \\\n",
       "0         1re Section Turgeau  Delmas 2 - Saint-Martin - Tokyo   \n",
       "1       1re Section St Martin           2ème Cite Saint Martin   \n",
       "2         1re Section Turgeau          Village du Bicentenaire   \n",
       "3         1re Section Turgeau                        La Grotte   \n",
       "4  2e Section Morne l'Hopital                        Beauboeuf   \n",
       "\n",
       "                     Name of the site               Spontaneous site type  \\\n",
       "0                    Institut Monfort                              School   \n",
       "1                         Camps zamor      Site installed on an air space   \n",
       "2  Not applicable to host communities  Not applicable to host communities   \n",
       "3  Not applicable to host communities  Not applicable to host communities   \n",
       "4  Not applicable to host communities  Not applicable to host communities   \n",
       "\n",
       "   Internally displaced households  IDPs counted  \\\n",
       "0                             2096         10480   \n",
       "1                             2107          6795   \n",
       "2                              980          4900   \n",
       "3                              800          4800   \n",
       "4                              960          4800   \n",
       "\n",
       "                  Site size in meters  ...  \\\n",
       "0              Over 150 square meters  ...   \n",
       "1              Over 150 square meters  ...   \n",
       "2  Not applicable to host communities  ...   \n",
       "3  Not applicable to host communities  ...   \n",
       "4  Not applicable to host communities  ...   \n",
       "\n",
       "  What are the 3 main\\nsecurity concerns in the\\nsite? Do boys attend school?  \\\n",
       "0                             Another gang gang fuss                     some   \n",
       "1                Attack GA, G Fight gang gang police                     some   \n",
       "2                Attack GA, G Fight gang gang police                     half   \n",
       "3                                              other                     half   \n",
       "4      Ga attack, g gang font recruitment child gang                     some   \n",
       "\n",
       "  Do girls attend school?                        Health problems  \\\n",
       "0                    some  infection_plaie diarrhee malnutrition   \n",
       "1                    some          Illness_peau cholera diarrhee   \n",
       "2                    half                      diarrhea coughing   \n",
       "3                majority            diarrhee disease_peau fever   \n",
       "4                    some  infection_plaie diarrhee malnutrition   \n",
       "\n",
       "            proportion vaccine cholera  Why not cholera vaccine  \\\n",
       "0             A few people (about 25%)          Pas_vaccin fear   \n",
       "1  The majority of people (around 75%)             other afraid   \n",
       "2             About half of the people                     fear   \n",
       "3                               Nobody                no_vaccin   \n",
       "4             About half of the people                     fear   \n",
       "\n",
       "   How much Death Cholera                             Food source  \\\n",
       "0                    10.0                   Purchase_ assault_hum   \n",
       "1                     6.0  Purchase_Marche Production_Subsistance   \n",
       "2                     NaN                  Borrow purchase_marche   \n",
       "3                     NaN                   Purchase_ assault_hum   \n",
       "4                    10.0                  Borrow purchase_marche   \n",
       "\n",
       "                              Access to fertile land  \\\n",
       "0                       No access to cultivable land   \n",
       "1  In any case, there is no cultivable land avail...   \n",
       "2  In any case, there is no cultivable land avail...   \n",
       "3  In any case, there is no cultivable land avail...   \n",
       "4                       No access to cultivable land   \n",
       "\n",
       "   Proportion of persons carrying out a subsistence activity  \n",
       "0                                               some          \n",
       "1                                               some          \n",
       "2                                               some          \n",
       "3                                               some          \n",
       "4                                               some          \n",
       "\n",
       "[5 rows x 50 columns]"
      ]
     },
     "execution_count": 3,
     "metadata": {},
     "output_type": "execute_result"
    }
   ],
   "source": [
    "df.head()"
   ]
  },
  {
   "cell_type": "code",
   "execution_count": 4,
   "id": "f1c3650a",
   "metadata": {},
   "outputs": [
    {
     "data": {
      "text/plain": [
       "(287, 50)"
      ]
     },
     "execution_count": 4,
     "metadata": {},
     "output_type": "execute_result"
    }
   ],
   "source": [
    "df.shape"
   ]
  },
  {
   "cell_type": "code",
   "execution_count": 5,
   "id": "8eb4b659",
   "metadata": {},
   "outputs": [
    {
     "name": "stdout",
     "output_type": "stream",
     "text": [
      "<class 'pandas.core.frame.DataFrame'>\n",
      "RangeIndex: 287 entries, 0 to 286\n",
      "Data columns (total 50 columns):\n",
      " #   Column                                                                  Non-Null Count  Dtype  \n",
      "---  ------                                                                  --------------  -----  \n",
      " 0   Evaluation date                                                         287 non-null    object \n",
      " 1   Type of place evaluated                                                 287 non-null    object \n",
      " 2   Commune name                                                            287 non-null    object \n",
      " 3   Municipal section name                                                  287 non-null    object \n",
      " 4   Neighborhood name                                                       287 non-null    object \n",
      " 5   Name of the site                                                        287 non-null    object \n",
      " 6   Spontaneous site type                                                   287 non-null    object \n",
      " 7   Internally displaced households                                         287 non-null    int64  \n",
      " 8   IDPs counted                                                            287 non-null    int64  \n",
      " 9   Site size in meters                                                     286 non-null    object \n",
      " 10  Land ownership                                                          286 non-null    object \n",
      " 11  Site creation date                                                      286 non-null    object \n",
      " 12  Presence of IDPs?                                                       287 non-null    object \n",
      " 13  Presence of old IDP returned?                                           236 non-null    object \n",
      " 14  Baby boys under 1 year old                                              287 non-null    int64  \n",
      " 15  Baby girls under a year old                                             287 non-null    int64  \n",
      " 16  Boys from 1 to 5 years old                                              287 non-null    int64  \n",
      " 17  Girls from 1 to 5 years old                                             287 non-null    int64  \n",
      " 18  Boys from 6 to 11 years old                                             287 non-null    int64  \n",
      " 19  Girls from 6 to 11 years old                                            287 non-null    int64  \n",
      " 20  Boys from 12 to 17 years old                                            287 non-null    int64  \n",
      " 21  Girls from 12 to 17 years old                                           287 non-null    int64  \n",
      " 22  People aged 60 and over                                                 287 non-null    int64  \n",
      " 23  Department of origin for majority of IDPs                               286 non-null    object \n",
      " 24  Municipality of origin for majority of IDPs                             286 non-null    object \n",
      " 25  Municipal section of origin for IDPs                                    286 non-null    object \n",
      " 26  District of origin for IDPs                                             284 non-null    object \n",
      " 27  Date fled                                                               286 non-null    object \n",
      " 28  Reason for fleeing                                                      286 non-null    object \n",
      " 29  Reason why IDP chose to take refuge in this place                       286 non-null    object \n",
      " 30  Is the place accessible?                                                286 non-null    object \n",
      " 31  Tension between displaced people and the host community?                286 non-null    object \n",
      " 32  Distribution of food received?                                          286 non-null    object \n",
      " 33  Health assistance                                                       286 non-null    object \n",
      " 34  Assistance psychosocial                                                 286 non-null    object \n",
      " 35  Assistance WASH                                                         286 non-null    object \n",
      " 36  Distribution CASH                                                       286 non-null    object \n",
      " 37  Education assistance                                                    286 non-null    object \n",
      " 38  Possession of identity documents by the majority of displaced persons?  286 non-null    object \n",
      " 39  If not why ?                                                            86 non-null     object \n",
      " 40  What are the 3 main\n",
      "security concerns in the\n",
      "site?                      286 non-null    object \n",
      " 41  Do boys attend school?                                                  286 non-null    object \n",
      " 42  Do girls attend school?                                                 286 non-null    object \n",
      " 43  Health problems                                                         286 non-null    object \n",
      " 44  proportion vaccine cholera                                              286 non-null    object \n",
      " 45  Why not cholera vaccine                                                 258 non-null    object \n",
      " 46  How much Death Cholera                                                  74 non-null     float64\n",
      " 47  Food source                                                             286 non-null    object \n",
      " 48  Access to fertile land                                                  286 non-null    object \n",
      " 49  Proportion of persons carrying out a subsistence activity               286 non-null    object \n",
      "dtypes: float64(1), int64(11), object(38)\n",
      "memory usage: 112.2+ KB\n"
     ]
    }
   ],
   "source": [
    "df.info()"
   ]
  },
  {
   "cell_type": "markdown",
   "id": "5e626a70",
   "metadata": {},
   "source": [
    "### How many people are displaced?"
   ]
  },
  {
   "cell_type": "code",
   "execution_count": 6,
   "id": "002788b4",
   "metadata": {},
   "outputs": [
    {
     "data": {
      "text/plain": [
       "127977"
      ]
     },
     "execution_count": 6,
     "metadata": {},
     "output_type": "execute_result"
    }
   ],
   "source": [
    "df['IDPs counted'] = pd.to_numeric(df['IDPs counted'], errors='coerce')\n",
    "total_idps = df['IDPs counted'].sum(skipna=True)\n",
    "total_idps"
   ]
  },
  {
   "cell_type": "markdown",
   "id": "9804074d",
   "metadata": {},
   "source": [
    "127,977 internally displaced people were counted by the International Organization for Migration in Port-au-Prince in February and March 2023."
   ]
  },
  {
   "cell_type": "markdown",
   "id": "16032f00",
   "metadata": {},
   "source": [
    "### Where are they taking refuge?"
   ]
  },
  {
   "cell_type": "code",
   "execution_count": 38,
   "id": "60df1cde",
   "metadata": {},
   "outputs": [
    {
     "data": {
      "image/png": "[encoded data removed]",
      "text/plain": [
       "<Figure size 1000x800 with 1 Axes>"
      ]
     },
     "metadata": {},
     "output_type": "display_data"
    }
   ],
   "source": [
    "commune_idp_counts = df.groupby('Commune name')['IDPs counted'].sum().reset_index()\n",
    "commune_idp_counts = commune_idp_counts.sort_values('IDPs counted', ascending=True)\n",
    "\n",
    "commune_idp_counts.to_csv(\"commune_idp_counts.csv\")\n",
    "\n",
    "plt.figure(figsize=(10, 8))\n",
    "plt.barh(commune_idp_counts['Commune name'], commune_idp_counts['IDPs counted'])\n",
    "plt.xlabel('Number of IDPs')\n",
    "plt.ylabel('Commune')\n",
    "plt.title('Number of IDPs per commune')\n",
    "plt.tight_layout()\n",
    "plt.show()"
   ]
  },
  {
   "cell_type": "code",
   "execution_count": 8,
   "id": "00d4e70b",
   "metadata": {},
   "outputs": [
    {
     "name": "stdout",
     "output_type": "stream",
     "text": [
      "Pétion-Ville: 1.68%\n",
      "Croix-Des-Bouquets: 4.73%\n",
      "Tabarre: 5.58%\n",
      "Carrefour: 6.11%\n",
      "Cité Soleil: 9.13%\n",
      "Delmas: 24.46%\n",
      "Port-au-Prince: 48.30%\n"
     ]
    }
   ],
   "source": [
    "commune_idp_counts['Percentage'] = (commune_idp_counts['IDPs counted'] / total_idps) * 100\n",
    "\n",
    "for index, row in commune_idp_counts.iterrows():\n",
    "    print(f\"{row['Commune name']}: {row['Percentage']:.2f}%\")"
   ]
  },
  {
   "cell_type": "code",
   "execution_count": 9,
   "id": "1239a4c7",
   "metadata": {},
   "outputs": [
    {
     "data": {
      "image/png": "[encoded data removed]",
      "text/plain": [
       "<Figure size 1000x800 with 1 Axes>"
      ]
     },
     "metadata": {},
     "output_type": "display_data"
    }
   ],
   "source": [
    "municipal_idp_counts = df.groupby('Municipal section name')['IDPs counted'].sum().reset_index()\n",
    "municipal_idp_counts = municipal_idp_counts.sort_values('IDPs counted', ascending=True)\n",
    "\n",
    "plt.figure(figsize=(10, 8))\n",
    "plt.barh(municipal_idp_counts['Municipal section name'], municipal_idp_counts['IDPs counted'])\n",
    "plt.xlabel('Number of IDPs')\n",
    "plt.ylabel('Municipal section')\n",
    "plt.title('Number of IDPs per municipal section')\n",
    "plt.tight_layout()\n",
    "plt.show()"
   ]
  },
  {
   "cell_type": "code",
   "execution_count": 10,
   "id": "36a1759c",
   "metadata": {},
   "outputs": [
    {
     "name": "stdout",
     "output_type": "stream",
     "text": [
      "4e Section Bellevue la Montagne: 10\n",
      "3e Section Taïfer: 200\n",
      "3e Section Petit Bois: 220\n",
      "9e Section des Crochus: 250\n",
      "5e Section Petit Bois: 350\n",
      "3e Section Etang du Jonc: 602\n",
      "9e Section Bizoton: 1105\n",
      "5e Section Bellevue Chardonnière: 1541\n",
      "4e Section Bellevue: 1788\n",
      "11e Section Rivière Froide: 2983\n",
      "10e Section Thor: 3532\n",
      "1re Section des Varreux: 3534\n",
      "3e Section Bellevue: 5359\n",
      "2e Section Morne l'Hopital: 7915\n",
      "3e Section Martissant: 10670\n",
      "2e Section des Varreux: 13387\n",
      "1re Section St Martin: 31299\n",
      "1re Section Turgeau: 43232\n"
     ]
    }
   ],
   "source": [
    "for index, row in municipal_idp_counts.iterrows():\n",
    "    print(f\"{row['Municipal section name']}: {row['IDPs counted']}\")"
   ]
  },
  {
   "cell_type": "code",
   "execution_count": 11,
   "id": "189442dd",
   "metadata": {
    "scrolled": true
   },
   "outputs": [
    {
     "name": "stdout",
     "output_type": "stream",
     "text": [
      "\n",
      "Percentage of IDP sites labeled as 'site': 17.77%\n",
      "Percentage of IDP sites labeled as 'host community': 82.23%\n"
     ]
    }
   ],
   "source": [
    "# Calculate the percentage of sites labeled as \"site\" and \"host community\"\n",
    "total_sites = df[df['Type of place evaluated'] == 'Site'].shape[0]\n",
    "total_host_communities = df[df['Type of place evaluated'] == 'Host community'].shape[0]\n",
    "total_entries = df.shape[0]\n",
    "\n",
    "percentage_sites = (total_sites / total_entries) * 100\n",
    "percentage_host_communities = (total_host_communities / total_entries) * 100\n",
    "\n",
    "print(\"\\nPercentage of IDP sites labeled as 'site': {:.2f}%\".format(percentage_sites))\n",
    "print(\"Percentage of IDP sites labeled as 'host community': {:.2f}%\".format(percentage_host_communities))"
   ]
  },
  {
   "cell_type": "code",
   "execution_count": 39,
   "id": "418afe29",
   "metadata": {},
   "outputs": [
    {
     "name": "stdout",
     "output_type": "stream",
     "text": [
      "\n",
      "Number of occurrences for each site type:\n",
      "Spontaneous site type\n",
      "Not applicable to host communities    236\n",
      "Site installed on an air space         18\n",
      "Temple/Church                          16\n",
      "School                                 12\n",
      "Community Center                        3\n",
      "Health center                           2\n",
      "Name: count, dtype: int64\n"
     ]
    }
   ],
   "source": [
    "site_type_counts = df['Spontaneous site type'].value_counts()\n",
    "print(\"\\nNumber of occurrences for each site type:\")\n",
    "print(site_type_counts)\n",
    "\n",
    "site_type_counts.to_csv('site_type_counts.csv', index=False)"
   ]
  },
  {
   "cell_type": "code",
   "execution_count": 13,
   "id": "5e466c4a",
   "metadata": {},
   "outputs": [
    {
     "name": "stdout",
     "output_type": "stream",
     "text": [
      "Unique values in 'Land ownership' column:\n",
      "To private persons\n",
      "Not applicable to host communities\n",
      "Public space / government\n",
      "Do not know\n",
      "To people with a kinship with IDPs\n",
      "nan\n",
      "\n",
      "Land ownership at IDP sites:\n",
      "Land ownership\n",
      "Not applicable to host communities    236\n",
      "To private persons                     33\n",
      "Public space / government              13\n",
      "Do not know                             3\n",
      "To people with a kinship with IDPs      1\n",
      "Name: count, dtype: int64\n"
     ]
    }
   ],
   "source": [
    "unique_values = df['Land ownership'].unique()\n",
    "print(\"Unique values in 'Land ownership' column:\")\n",
    "for value in unique_values:\n",
    "    print(value)\n",
    "\n",
    "# Find and print the number of occurrences for land ownership\n",
    "land_ownership = df['Land ownership'].value_counts()\n",
    "print(\"\\nLand ownership at IDP sites:\")\n",
    "print(land_ownership)"
   ]
  },
  {
   "cell_type": "markdown",
   "id": "4063aa8e",
   "metadata": {},
   "source": [
    "In March 2023, more than 4 of 5 IDPs in Port-au-Prince were taking refuge in host communities where families welcomed them into their homes, while the rest were in makeshift IDP camps at open air sites (18), churches (16), schools (12), community centers (3) and health centers (2)."
   ]
  },
  {
   "cell_type": "markdown",
   "id": "f45b7753",
   "metadata": {},
   "source": [
    "### Where were they displaced from?"
   ]
  },
  {
   "cell_type": "code",
   "execution_count": 14,
   "id": "565c39cb",
   "metadata": {},
   "outputs": [
    {
     "name": "stdout",
     "output_type": "stream",
     "text": [
      "Municipality of origin for majority of IDPs\n",
      "Croix-Des-Bouquets    89\n",
      "Port-au-Prince        74\n",
      "Pétion-Ville          38\n",
      "Cité Soleil           35\n",
      "Carrefour             26\n",
      "Delmas                13\n",
      "Tabarre                8\n",
      "Mirebalais             1\n",
      "Bombardopolis          1\n",
      "Gressier               1\n",
      "Name: count, dtype: int64\n",
      "  \n",
      "Municipality of origin for majority of IDPs\n",
      "Croix-Des-Bouquets    31.010453\n",
      "Port-au-Prince        25.783972\n",
      "Pétion-Ville          13.240418\n",
      "Cité Soleil           12.195122\n",
      "Carrefour              9.059233\n",
      "Delmas                 4.529617\n",
      "Tabarre                2.787456\n",
      "Mirebalais             0.348432\n",
      "Bombardopolis          0.348432\n",
      "Gressier               0.348432\n",
      "Name: count, dtype: float64\n"
     ]
    }
   ],
   "source": [
    "# Print the number of times a municipality is listed as the origin of displacement for a majority of the IDPs at one site\n",
    "municipality_counts = df['Municipality of origin for majority of IDPs'].value_counts()\n",
    "print(municipality_counts)\n",
    "\n",
    "# Print the percentage showing how each municipality ranked in terms of origin of displacement\n",
    "municipality_percentages = (municipality_counts / len(df)) * 100\n",
    "print(\"  \")\n",
    "print(municipality_percentages)"
   ]
  },
  {
   "cell_type": "code",
   "execution_count": 15,
   "id": "558f4e50",
   "metadata": {},
   "outputs": [],
   "source": [
    "# Create a DF with municipality counts and percentages\n",
    "municipality_df = pd.DataFrame({'Municipality': municipality_counts.index, 'Count': municipality_counts.values, 'Percentage': municipality_percentages.values})\n",
    "\n",
    "# Save municipality counts and percentages as CSV\n",
    "municipality_df.to_csv('municipality_origins.csv', index=False)"
   ]
  },
  {
   "cell_type": "code",
   "execution_count": 16,
   "id": "0ebe3bfe",
   "metadata": {},
   "outputs": [
    {
     "name": "stdout",
     "output_type": "stream",
     "text": [
      "Municipal section of origin for IDPs\n",
      "2ème Varreux (Canaan - Jerusalem)    70\n",
      "8ème Martissant                      36\n",
      "1ère Varreux                         35\n",
      "4ème Bellevue la Montagne            33\n",
      "6ème Turgeau                         24\n",
      "7ème Morne l'Hopital                 14\n",
      "10ème Thor                           13\n",
      "5ème Saint Martin                    13\n",
      "3ème Petit Bois                       9\n",
      "11ème Rivière Froide                  8\n",
      "3ème Bellevue                         8\n",
      "9ème Bizoton                          4\n",
      "2ème Varreux (Marin)                  4\n",
      "3ème Etang du Jong                    4\n",
      "2ème Petit Bois                       2\n",
      "2ème Crochus                          2\n",
      "1ère Petit Bois                       2\n",
      "6ème Aux Cadets                       1\n",
      "16ème Taïfer                          1\n",
      "5ème Gascogne                         1\n",
      "2ème des Forges                       1\n",
      "1ère Morne à Bateau                   1\n",
      "Name: count, dtype: int64\n",
      "  \n",
      "Municipal section of origin for IDPs\n",
      "2ème Varreux (Canaan - Jerusalem)    24.390244\n",
      "8ème Martissant                      12.543554\n",
      "1ère Varreux                         12.195122\n",
      "4ème Bellevue la Montagne            11.498258\n",
      "6ème Turgeau                          8.362369\n",
      "7ème Morne l'Hopital                  4.878049\n",
      "10ème Thor                            4.529617\n",
      "5ème Saint Martin                     4.529617\n",
      "3ème Petit Bois                       3.135889\n",
      "11ème Rivière Froide                  2.787456\n",
      "3ème Bellevue                         2.787456\n",
      "9ème Bizoton                          1.393728\n",
      "2ème Varreux (Marin)                  1.393728\n",
      "3ème Etang du Jong                    1.393728\n",
      "2ème Petit Bois                       0.696864\n",
      "2ème Crochus                          0.696864\n",
      "1ère Petit Bois                       0.696864\n",
      "6ème Aux Cadets                       0.348432\n",
      "16ème Taïfer                          0.348432\n",
      "5ème Gascogne                         0.348432\n",
      "2ème des Forges                       0.348432\n",
      "1ère Morne à Bateau                   0.348432\n",
      "Name: count, dtype: float64\n"
     ]
    }
   ],
   "source": [
    "# Print the number of times a municipal section is listed as the origin of displacement for a majority of the IDPs at one site\n",
    "municipal_section_counts = df['Municipal section of origin for IDPs'].value_counts()\n",
    "print(municipal_section_counts)\n",
    "\n",
    "# Print the percentage of each municipal section\n",
    "municipal_section_percentages = (municipal_section_counts / len(df)) * 100\n",
    "print(\"  \")\n",
    "print(municipal_section_percentages)"
   ]
  },
  {
   "cell_type": "code",
   "execution_count": 17,
   "id": "463809f3",
   "metadata": {},
   "outputs": [],
   "source": [
    "# Create a DataFrame with municipal section counts and percentages\n",
    "municipal_section_df = pd.DataFrame({'Municipal Section': municipal_section_counts.index, 'Count': municipal_section_counts.values, 'Percentage': municipal_section_percentages.values})\n",
    "\n",
    "# Save municipal section counts and percentages as CSV\n",
    "municipal_section_df.to_csv('municipal_section_origins.csv', index=False)"
   ]
  },
  {
   "cell_type": "code",
   "execution_count": 18,
   "id": "cdd7685d",
   "metadata": {},
   "outputs": [
    {
     "name": "stdout",
     "output_type": "stream",
     "text": [
      "District of origin for IDPs\n",
      "Canaan - Jerusalem                 64\n",
      "Bas Martissant                     17\n",
      "Savanne Pistaches                  13\n",
      "Pernier 24                          7\n",
      "Fort National                       7\n",
      "                                   ..\n",
      "Village des Rapatries - Menetas     1\n",
      "CANAAN                              1\n",
      "Larame                              1\n",
      "Bizoton - Bergamot                  1\n",
      "Delmas 33                           1\n",
      "Name: count, Length: 123, dtype: int64\n",
      "  \n",
      "District of origin for IDPs\n",
      "Canaan - Jerusalem                 22.299652\n",
      "Bas Martissant                      5.923345\n",
      "Savanne Pistaches                   4.529617\n",
      "Pernier 24                          2.439024\n",
      "Fort National                       2.439024\n",
      "                                     ...    \n",
      "Village des Rapatries - Menetas     0.348432\n",
      "CANAAN                              0.348432\n",
      "Larame                              0.348432\n",
      "Bizoton - Bergamot                  0.348432\n",
      "Delmas 33                           0.348432\n",
      "Name: count, Length: 123, dtype: float64\n"
     ]
    }
   ],
   "source": [
    "# Print the number of times a district is listed as the origin of displacement for a majority of the IDPs at one site\n",
    "district_counts = df['District of origin for IDPs'].value_counts()\n",
    "print(district_counts)\n",
    "\n",
    "# Print the percentage of each district\n",
    "district_percentages = (district_counts / len(df)) * 100\n",
    "print(\"  \")\n",
    "print(district_percentages)"
   ]
  },
  {
   "cell_type": "code",
   "execution_count": 19,
   "id": "b7431bb5",
   "metadata": {},
   "outputs": [],
   "source": [
    "# Create a DataFrame with district counts and percentages\n",
    "district_df = pd.DataFrame({'District': district_counts.index, 'Count': district_counts.values, 'Percentage': district_percentages.values})\n",
    "\n",
    "# Save district counts and percentages as CSV\n",
    "district_df.to_csv('district_origins.csv', index=False)"
   ]
  },
  {
   "cell_type": "markdown",
   "id": "b4da94bf",
   "metadata": {},
   "source": [
    "### Origin of IDPs map"
   ]
  },
  {
   "cell_type": "code",
   "execution_count": 20,
   "id": "02218f86",
   "metadata": {},
   "outputs": [],
   "source": [
    "pd.read_csv(\"HT ADM4 origins.csv\")\n",
    "df2 = pd.read_csv(\"HT ADM4 origins.csv\")"
   ]
  },
  {
   "cell_type": "code",
   "execution_count": 21,
   "id": "eeb59015",
   "metadata": {},
   "outputs": [
    {
     "name": "stdout",
     "output_type": "stream",
     "text": [
      "<class 'pandas.core.frame.DataFrame'>\n",
      "RangeIndex: 287 entries, 0 to 286\n",
      "Data columns (total 4 columns):\n",
      " #   Column                                       Non-Null Count  Dtype \n",
      "---  ------                                       --------------  ----- \n",
      " 0   Municipality of origin for majority of IDPs  286 non-null    object\n",
      " 1   Municipal section of origin for IDPs         286 non-null    object\n",
      " 2   District of origin for IDPs                  284 non-null    object\n",
      " 3   IDPs counted                                 287 non-null    int64 \n",
      "dtypes: int64(1), object(3)\n",
      "memory usage: 9.1+ KB\n"
     ]
    }
   ],
   "source": [
    "df2.info()"
   ]
  },
  {
   "cell_type": "code",
   "execution_count": 34,
   "id": "3bbcf16b",
   "metadata": {},
   "outputs": [
    {
     "name": "stdout",
     "output_type": "stream",
     "text": [
      "Municipal section of origin for IDPs\n",
      "10ème Thor                            2552\n",
      "11ème Rivière Froide                  1208\n",
      "16ème Taïfer                           370\n",
      "1ère Morne à Bateau                    270\n",
      "1ère Petit Bois                       1250\n",
      "1ère Varreux                         12989\n",
      "2ème Crochus                           776\n",
      "2ème Petit Bois                        660\n",
      "2ème Varreux (Canaan - Jerusalem)    17784\n",
      "2ème Varreux (Marin)                  1153\n",
      "2ème des Forges                        296\n",
      "3ème Bellevue                         1326\n",
      "3ème Etang du Jong                     285\n",
      "3ème Petit Bois                       3177\n",
      "4ème Bellevue la Montagne             3399\n",
      "5ème Gascogne                         3500\n",
      "5ème Saint Martin                    11713\n",
      "6ème Aux Cadets                        415\n",
      "6ème Turgeau                         36518\n",
      "7ème Morne l'Hopital                 14335\n",
      "8ème Martissant                      12906\n",
      "9ème Bizoton                           955\n",
      "Name: IDPs counted, dtype: int64\n",
      "\n",
      "Sum total of all IDPs: 127977\n"
     ]
    }
   ],
   "source": [
    "# Calculate the sum of IDPs counted for each unique value in \"Municipal section of origin for IDPs\"\n",
    "idp_counts_by_adm4 = df2.groupby('Municipal section of origin for IDPs')['IDPs counted'].sum()\n",
    "total_idps = df2['IDPs counted'].sum()\n",
    "\n",
    "print(idp_counts_by_adm4)\n",
    "print(   )\n",
    "print(\"Sum total of all IDPs:\", total_idps)"
   ]
  },
  {
   "cell_type": "code",
   "execution_count": 35,
   "id": "08bcdffe",
   "metadata": {},
   "outputs": [],
   "source": [
    "idp_counts_by_adm4 = pd.DataFrame({'Municipal Section': idp_counts_by_adm4.index, 'IDP Count': idp_counts_by_adm4.values})"
   ]
  },
  {
   "cell_type": "code",
   "execution_count": 36,
   "id": "712cb36a",
   "metadata": {},
   "outputs": [],
   "source": [
    "idp_counts_by_adm4.to_csv('idp_counts_by_adm4.csv', index=False)"
   ]
  },
  {
   "cell_type": "markdown",
   "id": "5beaa33c",
   "metadata": {},
   "source": [
    "### How many children are displaced? How many people over 60?"
   ]
  },
  {
   "cell_type": "code",
   "execution_count": 25,
   "id": "689a6b71",
   "metadata": {},
   "outputs": [
    {
     "name": "stdout",
     "output_type": "stream",
     "text": [
      "Total number of boys under 18: 27773\n",
      "Total number of girls under 18: 36131\n",
      "Total number of people aged 60 and over: 7725\n"
     ]
    }
   ],
   "source": [
    "# Sum of columns for boys under 18\n",
    "boys_under_18 = df['Baby boys under 1 year old'] + df['Boys from 1 to 5 years old'] + df['Boys from 6 to 11 years old'] + df['Boys from 12 to 17 years old']\n",
    "total_boys_under_18 = boys_under_18.sum()\n",
    "\n",
    "# Sum of columns for girls under 18\n",
    "girls_under_18 = df['Baby girls under a year old'] + df['Girls from 1 to 5 years old'] + df['Girls from 6 to 11 years old'] + df['Girls from 12 to 17 years old']\n",
    "total_girls_under_18 = girls_under_18.sum()\n",
    "\n",
    "# Sum of the \"People aged 60 and over\" column\n",
    "total_60_and_over = pd.to_numeric(df['People aged 60 and over'], errors='coerce').sum()\n",
    "\n",
    "# Print the totals\n",
    "print(\"Total number of boys under 18:\", total_boys_under_18)\n",
    "print(\"Total number of girls under 18:\", total_girls_under_18)\n",
    "print(\"Total number of people aged 60 and over:\", total_60_and_over)"
   ]
  },
  {
   "cell_type": "code",
   "execution_count": 26,
   "id": "81e9fb5c",
   "metadata": {},
   "outputs": [
    {
     "data": {
      "image/png": "[encoded data removed]",
      "text/plain": [
       "<Figure size 640x480 with 1 Axes>"
      ]
     },
     "metadata": {},
     "output_type": "display_data"
    }
   ],
   "source": [
    "# Convert \"IDPs counted\" column to numeric values\n",
    "df['IDPs counted'] = pd.to_numeric(df['IDPs counted'], errors='coerce')\n",
    "\n",
    "# Calculate the sum of each group\n",
    "total_boys_under_18 = df['Baby boys under 1 year old'] + df['Boys from 1 to 5 years old'] + df['Boys from 6 to 11 years old'] + df['Boys from 12 to 17 years old']\n",
    "total_girls_under_18 = df['Baby girls under a year old'] + df['Girls from 1 to 5 years old'] + df['Girls from 6 to 11 years old'] + df['Girls from 12 to 17 years old']\n",
    "total_60_and_over = pd.to_numeric(df['People aged 60 and over'], errors='coerce')\n",
    "\n",
    "# Calculate the total number of IDPs\n",
    "total_idps = df['IDPs counted'].sum()\n",
    "\n",
    "# Calculate the percentage breakdown\n",
    "percentage_boys_under_18 = (total_boys_under_18.sum() / total_idps) * 100\n",
    "percentage_girls_under_18 = (total_girls_under_18.sum() / total_idps) * 100\n",
    "percentage_60_and_over = (total_60_and_over.sum() / total_idps) * 100\n",
    "percentage_adults_18_59 = 100 - (percentage_boys_under_18 + percentage_girls_under_18 + percentage_60_and_over)\n",
    "\n",
    "# Create a DataFrame with the percentage breakdown\n",
    "data = {'Group': ['Boys Under 18', 'Girls Under 18', 'People Age 60+', 'Adults 18–59'],\n",
    "        'Percentage': [percentage_boys_under_18, percentage_girls_under_18, percentage_60_and_over, percentage_adults_18_59]}\n",
    "breakdown_df = pd.DataFrame(data)\n",
    "\n",
    "# Save the percentage breakdown as a CSV\n",
    "breakdown_df.to_csv('idp_breakdown.csv', index=False)\n",
    "\n",
    "# Create a pie chart\n",
    "labels = breakdown_df['Group']\n",
    "sizes = breakdown_df['Percentage']\n",
    "explode = (0.1, 0.1, 0.1, 0.1)\n",
    "\n",
    "plt.pie(sizes, explode=explode, labels=labels, autopct='%1.1f%%', shadow=True, startangle=90)\n",
    "plt.axis('equal')  # Equal aspect ratio ensures a circular pie\n",
    "plt.title('Demographics of IDPs')\n",
    "plt.show()"
   ]
  },
  {
   "cell_type": "markdown",
   "id": "a0b5f9d6",
   "metadata": {},
   "source": [
    "### Can humanitarian workers access these displacement sites?"
   ]
  },
  {
   "cell_type": "code",
   "execution_count": 40,
   "id": "276264e5",
   "metadata": {
    "scrolled": true
   },
   "outputs": [
    {
     "name": "stdout",
     "output_type": "stream",
     "text": [
      "Is the place accessible?\n",
      "Yes                               231\n",
      "No, because of physical access     33\n",
      "No, because of security            22\n",
      "Name: count, dtype: int64\n"
     ]
    }
   ],
   "source": [
    "# Count the occurrences for each type\n",
    "accessibility_counts = df['Is the place accessible?'].value_counts()\n",
    "\n",
    "accessibility_counts.to_csv(\"accessibility_counts\", index=False)\n",
    "\n",
    "# Print the number of occurrences for each type\n",
    "print(accessibility_counts)"
   ]
  },
  {
   "cell_type": "markdown",
   "id": "582907f7",
   "metadata": {},
   "source": [
    "### Are there tensions between the IDPs and their host communities?"
   ]
  },
  {
   "cell_type": "code",
   "execution_count": 28,
   "id": "ecfb0f16",
   "metadata": {},
   "outputs": [
    {
     "name": "stdout",
     "output_type": "stream",
     "text": [
      "Tension between displaced people and the host community?\n",
      "no     231\n",
      "Yes     55\n",
      "Name: count, dtype: int64\n"
     ]
    }
   ],
   "source": [
    "# Count the occurrences for each type\n",
    "tension_counts = df['Tension between displaced people and the host community?'].value_counts()\n",
    "\n",
    "print(tension_counts)"
   ]
  },
  {
   "cell_type": "markdown",
   "id": "6d64f5c3",
   "metadata": {},
   "source": [
    "Tensions between the IDPs and their hosts exist only in about a quarter of host communities."
   ]
  },
  {
   "cell_type": "markdown",
   "id": "472a85b2",
   "metadata": {},
   "source": [
    "### What kind of relief has been received? Food? Health? Cash? Education?"
   ]
  },
  {
   "cell_type": "code",
   "execution_count": 29,
   "id": "da9f2f84",
   "metadata": {},
   "outputs": [
    {
     "name": "stdout",
     "output_type": "stream",
     "text": [
      "Percentage of IDP sites that have received aid:\n",
      "Distribution of food received?: 5.23%\n",
      "Health assistance: 5.23%\n",
      "Assistance psychosocial: 0.70%\n",
      "Assistance WASH: 3.48%\n",
      "Distribution CASH: 4.53%\n",
      "Education assistance: 0.70%\n"
     ]
    }
   ],
   "source": [
    "# Select the columns related to aid\n",
    "aid_columns = ['Distribution of food received?', 'Health assistance', 'Assistance psychosocial',\n",
    "               'Assistance WASH', 'Distribution CASH', 'Education assistance']\n",
    "\n",
    "# Count the number of rows with \"Yes\" and \"No\" for each aid column\n",
    "aid_counts = df[aid_columns].apply(pd.Series.value_counts).T\n",
    "\n",
    "# Calculate the percentage of rows with aid\n",
    "aid_percentages = (aid_counts['Yes'] / df.shape[0]) * 100\n",
    "\n",
    "aid_percentages.to_csv('aid_percentages.csv', index=False)\n",
    "\n",
    "# Print the percentage of IDP sites that have received aid for each column\n",
    "print(\"Percentage of IDP sites that have received aid:\")\n",
    "for column in aid_percentages.index:\n",
    "    print(f\"{column}: {aid_percentages[column]:.2f}%\")"
   ]
  },
  {
   "cell_type": "markdown",
   "id": "ec82dd82",
   "metadata": {},
   "source": [
    "### How many IDPs have identification documents?"
   ]
  },
  {
   "cell_type": "code",
   "execution_count": 30,
   "id": "b7e99b6e",
   "metadata": {
    "scrolled": true
   },
   "outputs": [
    {
     "name": "stdout",
     "output_type": "stream",
     "text": [
      "Number of rows containing 'Yes': 176\n",
      "Percentage of rows containing 'Yes': 61.32%\n"
     ]
    }
   ],
   "source": [
    "# Count the number of rows with \"Yes\" in the specified column\n",
    "yes_count = df[df['Possession of identity documents by the majority of displaced persons?'] == 'Yes'].shape[0]\n",
    "\n",
    "# Calculate the percentage of rows with \"Yes\"\n",
    "percentage_yes = (yes_count / df.shape[0]) * 100\n",
    "\n",
    "# Print the number of rows and percentage\n",
    "print(\"Number of rows containing 'Yes':\", yes_count)\n",
    "print(\"Percentage of rows containing 'Yes': {:.2f}%\".format(percentage_yes))"
   ]
  },
  {
   "cell_type": "markdown",
   "id": "d08b2427",
   "metadata": {},
   "source": [
    "The majority of displaced people had personal identification documents in 61% of sites, meaning about 2 in 5 displaced persons did not have identification documents."
   ]
  },
  {
   "cell_type": "code",
   "execution_count": 31,
   "id": "0a88fcfc",
   "metadata": {},
   "outputs": [
    {
     "name": "stdout",
     "output_type": "stream",
     "text": [
      "If not why ?\n",
      "other                                                            39\n",
      "No office                                                        20\n",
      " Lack of financial means                                          8\n",
      "Neglect                                                           7\n",
      "Lack of interest                                                  5\n",
      "Lack of time                                                      3\n",
      " Lack of information on the procedures and services available     2\n",
      "Lack of knowledge on the importance of documentatio               2\n",
      "Name: count, dtype: int64\n"
     ]
    }
   ],
   "source": [
    "if_not_why_counts = df['If not why ?'].value_counts()\n",
    "\n",
    "print(if_not_why_counts)"
   ]
  },
  {
   "cell_type": "code",
   "execution_count": 32,
   "id": "85f52c57",
   "metadata": {},
   "outputs": [
    {
     "name": "stdout",
     "output_type": "stream",
     "text": [
      "Number of rows for each unique value in 'Do boys attend school?':\n",
      "Do boys attend school?\n",
      "some        144\n",
      "half         49\n",
      "majority     39\n",
      "none         24\n",
      "all          24\n",
      "NSP           6\n",
      "Name: count, dtype: int64\n",
      "\n",
      "Number of rows for each unique value in 'Do girls attend school?':\n",
      "Do girls attend school?\n",
      "some        142\n",
      "half         52\n",
      "majority     36\n",
      "all          26\n",
      "none         23\n",
      "NSP           7\n",
      "Name: count, dtype: int64\n"
     ]
    }
   ],
   "source": [
    "# Count the number of rows for each unique value in the \"Do boys attend school?\" column\n",
    "boys_attend_school_counts = df['Do boys attend school?'].value_counts()\n",
    "\n",
    "# Print the number of rows for each unique value in the \"Do boys attend school?\" column\n",
    "print(\"Number of rows for each unique value in 'Do boys attend school?':\")\n",
    "print(boys_attend_school_counts)\n",
    "\n",
    "# Count the number of rows for each unique value in the \"Do girls attend school?\" column\n",
    "girls_attend_school_counts = df['Do girls attend school?'].value_counts()\n",
    "\n",
    "# Print the number of rows for each unique value in the \"Do girls attend school?\" column\n",
    "print(\"\\nNumber of rows for each unique value in 'Do girls attend school?':\")\n",
    "print(girls_attend_school_counts)"
   ]
  },
  {
   "cell_type": "markdown",
   "id": "a2602533",
   "metadata": {},
   "source": [
    "### How many displaced people have died from cholera?"
   ]
  },
  {
   "cell_type": "code",
   "execution_count": 33,
   "id": "588be3b9",
   "metadata": {
    "scrolled": true
   },
   "outputs": [
    {
     "name": "stdout",
     "output_type": "stream",
     "text": [
      "Sum of 'How much Death Cholera': 590.0\n"
     ]
    }
   ],
   "source": [
    "# Calculate the sum of the \"How much Death Cholera\" column\n",
    "sum_death_cholera = df['How much Death Cholera'].sum()\n",
    "\n",
    "print(\"Sum of 'How much Death Cholera':\", sum_death_cholera)"
   ]
  }
 ],
 "metadata": {
  "kernelspec": {
   "display_name": "Python 3 (ipykernel)",
   "language": "python",
   "name": "python3"
  },
  "language_info": {
   "codemirror_mode": {
    "name": "ipython",
    "version": 3
   },
   "file_extension": ".py",
   "mimetype": "text/x-python",
   "name": "python",
   "nbconvert_exporter": "python",
   "pygments_lexer": "ipython3",
   "version": "3.10.11"
  }
 },
 "nbformat": 4,
 "nbformat_minor": 5
}
